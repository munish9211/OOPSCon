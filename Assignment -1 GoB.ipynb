{
 "cells": [
  {
   "cell_type": "code",
   "execution_count": 59,
   "id": "4eedef2a",
   "metadata": {},
   "outputs": [
    {
     "name": "stdout",
     "output_type": "stream",
     "text": [
      "Enter a String :Munish\n",
      "63155\n",
      "90892000\n"
     ]
    }
   ],
   "source": [
    "import hashlib as hs\n",
    "import time\n",
    "st = str(input(\"Enter a String :\"))\n",
    "thres = int('0x0000FFFFFFFFFFFFFFFFFFFFFFFFFFFFFFFFFFFFFFFFFFFFFFFFFFFFFFFFFFFF',16)\n",
    "i=0\n",
    "t_begin = time.time_ns()\n",
    "while(1):\n",
    "    sttemp=st + str(i)\n",
    "    temp = hs.sha256(sttemp.encode())\n",
    "    temp2 = int(temp.hexdigest(),16)\n",
    "    if(temp2 < thres):\n",
    "        break\n",
    "    i+=1\n",
    "print(i)\n",
    "t_end = time.time_ns() - t_begin\n",
    "print(t_end)"
   ]
  }
 ],
 "metadata": {
  "kernelspec": {
   "display_name": "Python 3",
   "language": "python",
   "name": "python3"
  },
  "language_info": {
   "codemirror_mode": {
    "name": "ipython",
    "version": 3
   },
   "file_extension": ".py",
   "mimetype": "text/x-python",
   "name": "python",
   "nbconvert_exporter": "python",
   "pygments_lexer": "ipython3",
   "version": "3.9.5"
  }
 },
 "nbformat": 4,
 "nbformat_minor": 5
}
